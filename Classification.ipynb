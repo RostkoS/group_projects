{
 "cells": [
  {
   "cell_type": "code",
   "execution_count": 1,
   "id": "03f52e14-1be8-4321-a8cf-565f6b22d599",
   "metadata": {},
   "outputs": [],
   "source": [
    "import pandas as pd\n",
    "import numpy as np\n",
    "import random\n",
    "from scipy.spatial import distance\n",
    "\n",
    "import matplotlib.pyplot as plt\n",
    "import seaborn as sns"
   ]
  },
  {
   "cell_type": "code",
   "execution_count": 2,
   "id": "d8020842-fed5-4f18-ab7e-72f234709857",
   "metadata": {},
   "outputs": [],
   "source": [
    "def most_frequent(samples):\n",
    "    counter = 0\n",
    "    num = samples[0]\n",
    "\n",
    "    for i in samples:\n",
    "        curr_frequency = samples.count(i)\n",
    "        if curr_frequency > counter:\n",
    "            counter = curr_frequency\n",
    "            num = i\n",
    "    return num"
   ]
  },
  {
   "cell_type": "code",
   "execution_count": 3,
   "id": "6f3c5317-0104-4822-a09d-29664adb7ed4",
   "metadata": {},
   "outputs": [],
   "source": [
    "class Classifier:\n",
    "    def __init__(self, neigh, t_size):\n",
    "        self.neigh = neigh\n",
    "        self.t_size = t_size\n",
    "\n",
    "    def fit(self, fit_data):\n",
    "        self.fit_data = fit_data\n",
    "\n",
    "    def predict(self, testing_data):\n",
    "        self.testing_data = testing_data\n",
    "        prediction = []\n",
    "        counter = 0\n",
    "\n",
    "        for i in self.testing_data:\n",
    "            classes = []\n",
    "            distances = []\n",
    "            for k in self.fit_data:\n",
    "                x = np.asarray(i[:-1])\n",
    "                y = np.asarray(k[:-1])\n",
    "                dist = distance.euclidean(x, y)\n",
    "                distances.append([dist, k[-1]])\n",
    "            counter += 1\n",
    "            distances.sort(key=lambda p: p[0])\n",
    "            for l in range(0, self.neigh):\n",
    "                classes.append(distances[l][1])\n",
    "            guess = most_frequent(classes)\n",
    "            prediction.append(guess)\n",
    "           \n",
    "        len_predict = len(prediction)\n",
    "        correct = 0\n",
    "        wrong = 0\n",
    "        for n in range(0, len_predict):\n",
    "            if self.testing_data[n][13] == prediction[n]:\n",
    "               \n",
    "                correct += 1\n",
    "            else:\n",
    "                wrong += 1\n",
    "\n",
    "        accuracy = correct / self.t_size\n",
    "        print(\"Accuracy: {}%\".format(round(accuracy*100, 2)))\n",
    "        return accuracy "
   ]
  },
  {
   "cell_type": "code",
   "execution_count": 4,
   "id": "0cde9fd8-2b29-40f2-a6c3-6690413f178a",
   "metadata": {},
   "outputs": [
    {
     "name": "stdout",
     "output_type": "stream",
     "text": [
      "<class 'pandas.core.frame.DataFrame'>\n",
      "RangeIndex: 9709 entries, 0 to 9708\n",
      "Data columns (total 20 columns):\n",
      " #   Column           Non-Null Count  Dtype  \n",
      "---  ------           --------------  -----  \n",
      " 0   ID               9709 non-null   int64  \n",
      " 1   Gender           9709 non-null   int64  \n",
      " 2   Own_car          9709 non-null   int64  \n",
      " 3   Own_property     9709 non-null   int64  \n",
      " 4   Work_phone       9709 non-null   int64  \n",
      " 5   Phone            9709 non-null   int64  \n",
      " 6   Email            9709 non-null   int64  \n",
      " 7   Unemployed       9709 non-null   int64  \n",
      " 8   Num_children     9709 non-null   int64  \n",
      " 9   Num_family       9709 non-null   int64  \n",
      " 10  Account_length   9709 non-null   int64  \n",
      " 11  Total_income     9709 non-null   float64\n",
      " 12  Age              9709 non-null   float64\n",
      " 13  Years_employed   9709 non-null   float64\n",
      " 14  Income_type      9709 non-null   object \n",
      " 15  Education_type   9709 non-null   object \n",
      " 16  Family_status    9709 non-null   object \n",
      " 17  Housing_type     9709 non-null   object \n",
      " 18  Occupation_type  9709 non-null   object \n",
      " 19  Target           9709 non-null   int64  \n",
      "dtypes: float64(3), int64(12), object(5)\n",
      "memory usage: 1.5+ MB\n"
     ]
    }
   ],
   "source": [
    "df = pd.read_csv(\"input/Credit_card.csv\")\n",
    "df.info()"
   ]
  },
  {
   "cell_type": "code",
   "execution_count": 5,
   "id": "57397890-adf6-41b3-a8e0-7b322464f415",
   "metadata": {},
   "outputs": [
    {
     "data": {
      "text/plain": [
       "Index(['ID', 'Gender', 'Own_car', 'Own_property', 'Work_phone', 'Phone',\n",
       "       'Email', 'Unemployed', 'Num_children', 'Num_family', 'Account_length',\n",
       "       'Total_income', 'Age', 'Years_employed', 'Income_type',\n",
       "       'Education_type', 'Family_status', 'Housing_type', 'Occupation_type',\n",
       "       'Target'],\n",
       "      dtype='object')"
      ]
     },
     "execution_count": 5,
     "metadata": {},
     "output_type": "execute_result"
    }
   ],
   "source": [
    "df.columns"
   ]
  },
  {
   "cell_type": "code",
   "execution_count": 6,
   "id": "836936fc-fa84-4dfe-80cf-10be49498141",
   "metadata": {},
   "outputs": [],
   "source": [
    "df.drop(['ID'], axis=1, inplace=True)"
   ]
  },
  {
   "cell_type": "code",
   "execution_count": 7,
   "id": "d883b944-4151-4a63-9bfe-ed587901a3ec",
   "metadata": {},
   "outputs": [],
   "source": [
    "df.drop(['Income_type','Education_type','Family_status','Housing_type','Occupation_type'], axis=1, inplace=True)"
   ]
  },
  {
   "cell_type": "code",
   "execution_count": 8,
   "id": "9067761f-2e56-4ca8-9d40-16826933bc2e",
   "metadata": {},
   "outputs": [
    {
     "data": {
      "text/plain": [
       "(9709, 14)"
      ]
     },
     "execution_count": 8,
     "metadata": {},
     "output_type": "execute_result"
    }
   ],
   "source": [
    "df.columns\n",
    "df.shape"
   ]
  },
  {
   "cell_type": "code",
   "execution_count": null,
   "id": "91f6ef0d-b5b6-4ee2-a262-4898a712758f",
   "metadata": {},
   "outputs": [],
   "source": []
  },
  {
   "cell_type": "code",
   "execution_count": 9,
   "id": "d9de7eed-0cc6-414c-bb8c-6fcd13e53100",
   "metadata": {},
   "outputs": [],
   "source": [
    "df.drop(df.index[1000:], inplace=True)\n",
    "full_data = df.astype(float).values.tolist()"
   ]
  },
  {
   "cell_type": "code",
   "execution_count": 10,
   "id": "b9c5e808-ef70-42cd-9009-d6d65e1b175d",
   "metadata": {},
   "outputs": [
    {
     "name": "stdout",
     "output_type": "stream",
     "text": [
      "<class 'pandas.core.frame.DataFrame'>\n",
      "RangeIndex: 1000 entries, 0 to 999\n",
      "Data columns (total 14 columns):\n",
      " #   Column          Non-Null Count  Dtype  \n",
      "---  ------          --------------  -----  \n",
      " 0   Gender          1000 non-null   int64  \n",
      " 1   Own_car         1000 non-null   int64  \n",
      " 2   Own_property    1000 non-null   int64  \n",
      " 3   Work_phone      1000 non-null   int64  \n",
      " 4   Phone           1000 non-null   int64  \n",
      " 5   Email           1000 non-null   int64  \n",
      " 6   Unemployed      1000 non-null   int64  \n",
      " 7   Num_children    1000 non-null   int64  \n",
      " 8   Num_family      1000 non-null   int64  \n",
      " 9   Account_length  1000 non-null   int64  \n",
      " 10  Total_income    1000 non-null   float64\n",
      " 11  Age             1000 non-null   float64\n",
      " 12  Years_employed  1000 non-null   float64\n",
      " 13  Target          1000 non-null   int64  \n",
      "dtypes: float64(3), int64(11)\n",
      "memory usage: 109.5 KB\n"
     ]
    }
   ],
   "source": [
    "df.info()"
   ]
  },
  {
   "cell_type": "code",
   "execution_count": 11,
   "id": "123ee6af-094b-45f8-803a-05a0f6b91435",
   "metadata": {},
   "outputs": [],
   "source": [
    "random.seed(42)\n",
    "random.shuffle(full_data)"
   ]
  },
  {
   "cell_type": "code",
   "execution_count": 13,
   "id": "47067323-2a85-4a5c-b12b-85f6941b8a8e",
   "metadata": {},
   "outputs": [
    {
     "name": "stdout",
     "output_type": "stream",
     "text": [
      "300.0\n"
     ]
    }
   ],
   "source": [
    "test_size = 0.3\n",
    "test_data_size = test_size * len(full_data)\n",
    "train_data = full_data[:-int(test_size * len(full_data))]\n",
    "test_data = full_data[-int(test_size * len(full_data)):]\n",
    "print(test_data_size)"
   ]
  },
  {
   "cell_type": "code",
   "execution_count": 14,
   "id": "b2f8d881-a002-4b89-a158-79460f90c508",
   "metadata": {},
   "outputs": [
    {
     "name": "stdout",
     "output_type": "stream",
     "text": [
      "Accuracy: 78.0%\n",
      "Accuracy: 78.0%\n",
      "Accuracy: 87.0%\n",
      "Accuracy: 87.0%\n",
      "Accuracy: 87.33%\n",
      "Accuracy: 88.0%\n",
      "Accuracy: 88.67%\n",
      "Accuracy: 88.67%\n",
      "Accuracy: 89.0%\n",
      "Accuracy: 89.0%\n",
      "Accuracy: 89.0%\n",
      "Accuracy: 89.0%\n",
      "Accuracy: 89.0%\n",
      "Accuracy: 89.0%\n",
      "Accuracy: 89.0%\n",
      "Accuracy: 89.0%\n",
      "Accuracy: 89.0%\n",
      "Accuracy: 89.0%\n",
      "Accuracy: 89.0%\n"
     ]
    }
   ],
   "source": [
    "k_values = [i for i in range (1,20)]\n",
    "accuracies = []\n",
    "for k in k_values:\n",
    "    knn = Classifier(k, test_data_size)\n",
    "    knn.fit(train_data)\n",
    "    accuracy = knn.predict(test_data)\n",
    "    accuracies.append(np.mean( accuracy))"
   ]
  },
  {
   "cell_type": "code",
   "execution_count": 16,
   "id": "b8c16f0a-7e08-4197-a797-0390f4a580c3",
   "metadata": {},
   "outputs": [
    {
     "data": {
      "text/plain": [
       "Text(0, 0.5, 'Accuracy Score')"
      ]
     },
     "execution_count": 16,
     "metadata": {},
     "output_type": "execute_result"
    },
    {
     "data": {
      "image/png": "[encoded data removed]",
      "text/plain": [
       "<Figure size 640x480 with 1 Axes>"
      ]
     },
     "metadata": {},
     "output_type": "display_data"
    }
   ],
   "source": [
    "sns.lineplot(x = k_values, y = accuracies, marker = 'o')\n",
    "plt.xlabel(\"K Values\")\n",
    "plt.ylabel(\"Accuracy Score\")"
   ]
  },
  {
   "cell_type": "code",
   "execution_count": 15,
   "id": "3ba8bc91-6d47-4461-bd96-b3ad5aa05cd7",
   "metadata": {},
   "outputs": [
    {
     "name": "stdout",
     "output_type": "stream",
     "text": [
      "Accuracy: 89.0%\n"
     ]
    },
    {
     "data": {
      "text/plain": [
       "0.89"
      ]
     },
     "execution_count": 15,
     "metadata": {},
     "output_type": "execute_result"
    }
   ],
   "source": [
    "k_neigh = 9\n",
    "knn = Classifier(k_neigh, test_data_size)\n",
    "knn.fit(train_data)\n",
    "knn.predict(test_data)"
   ]
  },
  {
   "cell_type": "code",
   "execution_count": null,
   "id": "249b92e7-53b4-407e-84e1-3a02c4a313c1",
   "metadata": {},
   "outputs": [],
   "source": []
  },
  {
   "cell_type": "code",
   "execution_count": null,
   "id": "d5702727-fa28-471b-b049-2a08df4fe63e",
   "metadata": {},
   "outputs": [],
   "source": []
  }
 ],
 "metadata": {
  "kernelspec": {
   "display_name": "Python 3 (ipykernel)",
   "language": "python",
   "name": "python3"
  },
  "language_info": {
   "codemirror_mode": {
    "name": "ipython",
    "version": 3
   },
   "file_extension": ".py",
   "mimetype": "text/x-python",
   "name": "python",
   "nbconvert_exporter": "python",
   "pygments_lexer": "ipython3",
   "version": "3.12.0"
  }
 },
 "nbformat": 4,
 "nbformat_minor": 5
}
